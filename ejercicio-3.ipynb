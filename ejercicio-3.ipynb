{
 "cells": [
  {
   "cell_type": "code",
   "execution_count": null,
   "id": "initial_id",
   "metadata": {
    "collapsed": true
   },
   "outputs": [],
   "source": [
    "# Su empresa se dedica a recibir dispositivos para repararlos. En algunos casos, no\n",
    "# se puede reparar y deben solicitar un dispositivo nuevo. Cuentan con una base de\n",
    "# datos muy grande donde se registra el estado de cada componente del dispositivo,\n",
    "# y un dato final indicando si pudo repararse o si fue necesario solicitar un dispostivo\n",
    "# nuevo.\n",
    "# Le solicitan que haga y entrene un modelo con esos datos, para que al final se\n",
    "# ingresen los datos de los componentes, y muestre una predicción indicando si el\n",
    "# dispostivo puede repararse, o si debe solicitarse uno nuevo."
   ]
  },
  {
   "metadata": {},
   "cell_type": "code",
   "outputs": [],
   "execution_count": null,
   "source": [
    "# Responda a las siguientes preguntas:\n",
    "# • ¿Qué tipo de modelo aplicaría?\n",
    "# R/:\n",
    "# Aplicaria el Arbol de Desicion\n",
    "\n",
    "# • ¿Por qué consideras que ese modelo es adecuado?\n",
    "# R/:\n",
    "# Porque es un modelo de clasificación y regresion, \n",
    "# lo que lo hace adecuado cuando no hay una relacion \n",
    "# lineal entre los datos ademas que es un modelo \n",
    "# facil de interpretar tambien se puede visualizar en un grafico\n",
    "\n",
    "# Ahora ha aplicado algunos algoritmos de machine learning en datos:\n",
    "# • ¿De qué manera considera que es diferente a la programación regular, para\n",
    "# este tipo de proyectos?\n",
    "# R/:\n",
    "# La programación son algoritmos que se ejecutan en un orden\n",
    "# determinado y dan un resultado esperado en base a la logica\n",
    "# que le demos, en cambio el machine learning\n",
    "# se basa en el aprendizaje de los datos y puede dar resultados muy diferentes\n",
    "# siempre con un margen de error\n",
    "\n",
    "# • ¿Por qué cree que los modelos como los vistos en las clases no logran llegar\n",
    "# a un 100% de respuestas correctas?\n",
    "# R/:\n",
    "# porque puede que los datos no sean suficientes o no esten bien analizados,\n",
    "# tambien puede ser que el modelo no sea el adecuado para los datos que dimos \n",
    "# y por ultimo no creo que un algoritmo de machine learning pueda llegar al 100%"
   ],
   "id": "6956dc92a53eb514"
  }
 ],
 "metadata": {
  "kernelspec": {
   "display_name": "Python 3",
   "language": "python",
   "name": "python3"
  },
  "language_info": {
   "codemirror_mode": {
    "name": "ipython",
    "version": 2
   },
   "file_extension": ".py",
   "mimetype": "text/x-python",
   "name": "python",
   "nbconvert_exporter": "python",
   "pygments_lexer": "ipython2",
   "version": "2.7.6"
  }
 },
 "nbformat": 4,
 "nbformat_minor": 5
}
